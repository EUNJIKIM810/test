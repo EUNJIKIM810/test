{
  "nbformat": 4,
  "nbformat_minor": 0,
  "metadata": {
    "colab": {
      "provenance": [],
      "authorship_tag": "ABX9TyNNOufAQbim53br1aRqTv9d",
      "include_colab_link": true
    },
    "kernelspec": {
      "name": "python3",
      "display_name": "Python 3"
    },
    "language_info": {
      "name": "python"
    }
  },
  "cells": [
    {
      "cell_type": "markdown",
      "metadata": {
        "id": "view-in-github",
        "colab_type": "text"
      },
      "source": [
        "<a href=\"https://colab.research.google.com/github/EUNJIKIM810/test/blob/main/pytorch_tutorial_tensor.ipynb\" target=\"_parent\"><img src=\"https://colab.research.google.com/assets/colab-badge.svg\" alt=\"Open In Colab\"/></a>"
      ]
    },
    {
      "cell_type": "code",
      "execution_count": null,
      "metadata": {
        "id": "-srBXztJvwq6"
      },
      "outputs": [],
      "source": [
        "import torch\n",
        "import numpy as np"
      ]
    },
    {
      "cell_type": "markdown",
      "source": [
        "**<텐서 초기화>**"
      ],
      "metadata": {
        "id": "8Mae3g66wGhB"
      }
    },
    {
      "cell_type": "markdown",
      "source": [
        "데이터로부터 직접(directly) 생성하기"
      ],
      "metadata": {
        "id": "1MDqul5pvz4h"
      }
    },
    {
      "cell_type": "code",
      "source": [
        "data = [[1, 2],[3, 4]]\n",
        "x_data = torch.tensor(data)\n",
        "print(x_data)"
      ],
      "metadata": {
        "id": "w_USY_uPv3bc",
        "colab": {
          "base_uri": "https://localhost:8080/"
        },
        "outputId": "4e59d33f-ad55-4285-f354-f196f2792f90"
      },
      "execution_count": 16,
      "outputs": [
        {
          "output_type": "stream",
          "name": "stdout",
          "text": [
            "tensor([[1, 2],\n",
            "        [3, 4]])\n"
          ]
        }
      ]
    },
    {
      "cell_type": "markdown",
      "source": [
        "NumPy 배열로부터 생성하기"
      ],
      "metadata": {
        "id": "mWNQTgxhwPJy"
      }
    },
    {
      "cell_type": "code",
      "source": [
        "np_array = np.array(data)\n",
        "x_np = torch.from_numpy(np_array)\n",
        "print(x_np)"
      ],
      "metadata": {
        "id": "QZdOqlh5wSlB",
        "colab": {
          "base_uri": "https://localhost:8080/"
        },
        "outputId": "04f36dee-5249-4932-f904-3aa530b51f00"
      },
      "execution_count": 17,
      "outputs": [
        {
          "output_type": "stream",
          "name": "stdout",
          "text": [
            "tensor([[1, 2],\n",
            "        [3, 4]])\n"
          ]
        }
      ]
    },
    {
      "cell_type": "markdown",
      "source": [
        "다른 텐서로부터 생성하기:\n",
        "\n",
        "명시적으로 재정의(override)하지 않는다면, 인자로 주어진 텐서의 속성(모양(shape), 자료형(datatype))을 유지합니다."
      ],
      "metadata": {
        "id": "ylFjz_26wYro"
      }
    },
    {
      "cell_type": "code",
      "source": [
        "x_ones = torch.ones_like(x_data) # x_data의 속성을 유지합니다.\n",
        "print(f\"Ones Tensor: \\n {x_ones} \\n\")\n",
        "\n",
        "x_rand = torch.rand_like(x_data, dtype=torch.float) # x_data의 속성을 덮어씁니다.\n",
        "print(f\"Random Tensor: \\n {x_rand} \\n\")"
      ],
      "metadata": {
        "colab": {
          "base_uri": "https://localhost:8080/"
        },
        "id": "ax9f4jANwbW5",
        "outputId": "a995312e-c0f5-45f1-9b9d-8d4fc0cd68e9"
      },
      "execution_count": 14,
      "outputs": [
        {
          "output_type": "stream",
          "name": "stdout",
          "text": [
            "Ones Tensor: \n",
            " tensor([[1, 1],\n",
            "        [1, 1]]) \n",
            "\n",
            "Random Tensor: \n",
            " tensor([[0.1871, 0.9739],\n",
            "        [0.9828, 0.5963]]) \n",
            "\n"
          ]
        }
      ]
    },
    {
      "cell_type": "markdown",
      "source": [
        "무작위(random) 또는 상수(constant) 값을 사용하기:\n",
        "\n",
        "shape 은 텐서의 차원(dimension)을 나타내는 튜플(tuple)로, 아래 함수들에서는 출력 텐서의 차원을 결정합니다."
      ],
      "metadata": {
        "id": "K_DLIXmvwp2d"
      }
    },
    {
      "cell_type": "code",
      "source": [
        "shape = (2,3,) #2행 3열 형태의 2차원 텐서를 만든다\n",
        "rand_tensor = torch.rand(shape) #텐서를 무작위로 채운다\n",
        "ones_tensor = torch.ones(shape) #텐서를 1로 채운다\n",
        "zeros_tensor = torch.zeros(shape) #텐서를 0으로 채운다\n",
        "\n",
        "print(f\"Random Tensor: \\n {rand_tensor} \\n\")\n",
        "print(f\"Ones Tensor: \\n {ones_tensor} \\n\")\n",
        "print(f\"Zeros Tensor: \\n {zeros_tensor}\")"
      ],
      "metadata": {
        "colab": {
          "base_uri": "https://localhost:8080/"
        },
        "id": "gd1KuVUGwrdR",
        "outputId": "9f31bd45-6fd1-40b9-9e96-36c41f73750c"
      },
      "execution_count": 18,
      "outputs": [
        {
          "output_type": "stream",
          "name": "stdout",
          "text": [
            "Random Tensor: \n",
            " tensor([[0.3818, 0.3254, 0.3226],\n",
            "        [0.4811, 0.1552, 0.7554]]) \n",
            "\n",
            "Ones Tensor: \n",
            " tensor([[1., 1., 1.],\n",
            "        [1., 1., 1.]]) \n",
            "\n",
            "Zeros Tensor: \n",
            " tensor([[0., 0., 0.],\n",
            "        [0., 0., 0.]])\n"
          ]
        }
      ]
    },
    {
      "cell_type": "markdown",
      "source": [
        "**텐서의 속성(Attribute)**"
      ],
      "metadata": {
        "id": "RRTPADKy0-nw"
      }
    },
    {
      "cell_type": "markdown",
      "source": [
        "텐서의 속성은 텐서의 모양(shape), 자료형(datatype) 및 어느 장치에 저장되는지를 나타냅니다.\n"
      ],
      "metadata": {
        "id": "AFza63Ccwzyh"
      }
    },
    {
      "cell_type": "code",
      "source": [
        "tensor = torch.rand(3,4) #3행 4열의 2차원 텐서를 무작위로 초기화한다.\n",
        "\n",
        "print(f\"Shape of tensor: {tensor.shape}\")\n",
        "print(f\"Datatype of tensor: {tensor.dtype}\")\n",
        "print(f\"Device tensor is stored on: {tensor.device}\")"
      ],
      "metadata": {
        "id": "AQu9vmbpw4al",
        "colab": {
          "base_uri": "https://localhost:8080/"
        },
        "outputId": "231d4188-6c04-4427-e9ce-6aa8f919bb90"
      },
      "execution_count": 19,
      "outputs": [
        {
          "output_type": "stream",
          "name": "stdout",
          "text": [
            "Shape of tensor: torch.Size([3, 4])\n",
            "Datatype of tensor: torch.float32\n",
            "Device tensor is stored on: cpu\n"
          ]
        }
      ]
    },
    {
      "cell_type": "markdown",
      "source": [
        "**텐서 연산(Operation)**"
      ],
      "metadata": {
        "id": "ijE1dRgl1Ald"
      }
    },
    {
      "cell_type": "markdown",
      "source": [
        "기본적으로 텐서는 CPU에 생성됩니다. .to 메소드를 사용하면 (GPU의 가용성(availability)을 확인한 뒤) GPU로 텐서를 명시적으로 이동할 수 있습니다. 장치들 간에 큰 텐서들을 복사하는 것은 시간과 메모리 측면에서 비용이 많이든다는 것을 기억하세요!"
      ],
      "metadata": {
        "id": "zFIMHUMh1Cdx"
      }
    },
    {
      "cell_type": "code",
      "source": [
        "# GPU가 존재하면 텐서를 이동합니다\n",
        "if torch.cuda.is_available():\n",
        "    tensor = tensor.to(\"cuda\")"
      ],
      "metadata": {
        "id": "7zRVrjGv1NoX"
      },
      "execution_count": 20,
      "outputs": []
    },
    {
      "cell_type": "markdown",
      "source": [
        "NumPy식의 표준 인덱싱과 슬라이싱:"
      ],
      "metadata": {
        "id": "Xp429lN41Qj_"
      }
    },
    {
      "cell_type": "code",
      "source": [
        "tensor = torch.ones(4, 4) #모든 값이 1로 초기화된 4행 4열 형태의 텐서를 만든다\n",
        "print(f\"First row: {tensor[0]}\") #텐서의 첫번쨰 행 조회하기. 파이썬 인덱싱은 0부터 시작하므로 첫번쨰 행을 의미한다.\n",
        "print(f\"First column: {tensor[:, 0]}\") #텐서의 첫번째 열 조회하기.\n",
        "#:는 텐서의 모든 행을 선택하라는 뜻이고, 0은 첫 번째 열을 선택하라는 뜻\n",
        "\n",
        "print(f\"Last column: {tensor[..., -1]}\") #텐서의 마지막 열 조회하기\n",
        "#...은 모든 차원을 그대로 유지하라는 의미이며, -1은 마지막 요소를 선택하라는 뜻\n",
        "tensor[:,1] = 0 #두번째 열의 값을 모두 0으로 수정\n",
        "print(tensor)"
      ],
      "metadata": {
        "colab": {
          "base_uri": "https://localhost:8080/"
        },
        "id": "50gyQOBG1RCu",
        "outputId": "af0abc10-228a-4cfc-d5de-d9f73d9388aa"
      },
      "execution_count": 21,
      "outputs": [
        {
          "output_type": "stream",
          "name": "stdout",
          "text": [
            "First row: tensor([1., 1., 1., 1.])\n",
            "First column: tensor([1., 1., 1., 1.])\n",
            "Last column: tensor([1., 1., 1., 1.])\n",
            "tensor([[1., 0., 1., 1.],\n",
            "        [1., 0., 1., 1.],\n",
            "        [1., 0., 1., 1.],\n",
            "        [1., 0., 1., 1.]])\n"
          ]
        }
      ]
    },
    {
      "cell_type": "markdown",
      "source": [
        "torch.ones() 함수로 생성된 텐서는 기본적으로 float32 데이터 타입을 가진다.\n",
        "PyTorch는 실수(float)를 기본 데이터 타입으로 사용한다.\n",
        "따라서, 값 1.은 실수를 의미하며, 소숫점이 없는 정수 1과 구분된다."
      ],
      "metadata": {
        "id": "TTR7GCMl17dU"
      }
    },
    {
      "cell_type": "markdown",
      "source": [
        "텐서 합치기 torch.cat 을 사용하여 주어진 차원에 따라 일련의 텐서를 연결할 수 있습니다."
      ],
      "metadata": {
        "id": "ciEz8bY12nwB"
      }
    },
    {
      "cell_type": "code",
      "source": [
        "t1 = torch.cat([tensor, tensor, tensor], dim=1)\n",
        "print(t1)"
      ],
      "metadata": {
        "colab": {
          "base_uri": "https://localhost:8080/"
        },
        "id": "5q0B92mR2oKe",
        "outputId": "b974a425-dff7-4728-d0bb-311e64b9704c"
      },
      "execution_count": 22,
      "outputs": [
        {
          "output_type": "stream",
          "name": "stdout",
          "text": [
            "tensor([[1., 0., 1., 1., 1., 0., 1., 1., 1., 0., 1., 1.],\n",
            "        [1., 0., 1., 1., 1., 0., 1., 1., 1., 0., 1., 1.],\n",
            "        [1., 0., 1., 1., 1., 0., 1., 1., 1., 0., 1., 1.],\n",
            "        [1., 0., 1., 1., 1., 0., 1., 1., 1., 0., 1., 1.]])\n"
          ]
        }
      ]
    },
    {
      "cell_type": "markdown",
      "source": [
        "산술 연산(Arithmetic operations)"
      ],
      "metadata": {
        "id": "l8kHVC342rcG"
      }
    },
    {
      "cell_type": "code",
      "source": [
        "# 두 텐서 간의 행렬 곱(matrix multiplication)을 계산합니다. y1, y2, y3은 모두 같은 값을 갖습니다.\n",
        "# ``tensor.T`` 는 텐서의 전치(transpose)를 반환합니다.\n",
        "y1 = tensor @ tensor.T #@는 행렬곱 연산자.  tensor @ tensor.T는 4ㅌ4 행렬 텐서와 그 저ㄴ치 행렬 텐서.T의 행렬곱을 계\n",
        "y2 = tensor.matmul(tensor.T) #tensor.matmul()은 PyTorch에서 행렬 곱을 수행하는 메서드\n",
        "\n",
        "y3 = torch.rand_like(y1)\n",
        "torch.matmul(tensor, tensor.T, out=y3) #out 매개변수를 사용하여 결과를 저장할 텐서를 지정\n",
        "\n",
        "\n",
        "# 요소별 곱(element-wise product)을 계산합니다. z1, z2, z3는 모두 같은 값을 갖습니다.\n",
        "#요소별 곱은 두 텐서의 동일한 위치에 있는 요소를 곱하는 연산\n",
        "z1 = tensor * tensor\n",
        "z2 = tensor.mul(tensor)\n",
        "\n",
        "z3 = torch.rand_like(tensor)\n",
        "torch.mul(tensor, tensor, out=z3)\n"
      ],
      "metadata": {
        "colab": {
          "base_uri": "https://localhost:8080/"
        },
        "id": "Z3zjh5532rxA",
        "outputId": "9517c024-15c9-4b95-cde5-78c64b6ea414"
      },
      "execution_count": 29,
      "outputs": [
        {
          "output_type": "execute_result",
          "data": {
            "text/plain": [
              "tensor([[1., 0., 1., 1.],\n",
              "        [1., 0., 1., 1.],\n",
              "        [1., 0., 1., 1.],\n",
              "        [1., 0., 1., 1.]])"
            ]
          },
          "metadata": {},
          "execution_count": 29
        }
      ]
    },
    {
      "cell_type": "markdown",
      "source": [
        "단일-요소(single-element) 텐서 텐서의 모든 값을 하나로 집계(aggregate)하여 요소가 하나인 텐서의 경우, item() 을 사용하여 Python 숫자 값으로 변환할 수 있습니다:"
      ],
      "metadata": {
        "id": "LmcUimex4k2I"
      }
    },
    {
      "cell_type": "code",
      "source": [
        "agg = tensor.sum() #텐서의 모든 요소를 더한 값을 반환\n",
        "agg_item = agg.item() #스칼라 텐서를 기본 데이터타입으로 변환\n",
        "print(agg_item, type(agg_item))"
      ],
      "metadata": {
        "colab": {
          "base_uri": "https://localhost:8080/"
        },
        "id": "HZAqdRXt4lpb",
        "outputId": "ad3a14f2-65c4-4b84-fe3e-c7dcb5c70501"
      },
      "execution_count": 30,
      "outputs": [
        {
          "output_type": "stream",
          "name": "stdout",
          "text": [
            "12.0 <class 'float'>\n"
          ]
        }
      ]
    },
    {
      "cell_type": "markdown",
      "source": [
        "바꿔치기(in-place) 연산 연산 결과를 피연산자(operand)에 저장하는 연산을 바꿔치기 연산이라고 부르며, _ 접미사를 갖습니다. 예를 들어: x.copy_(y) 나 x.t_() 는 x 를 변경합니다."
      ],
      "metadata": {
        "id": "Ho_fdiMy5CXB"
      }
    },
    {
      "cell_type": "code",
      "source": [
        "print(f\"{tensor} \\n\")\n",
        "tensor.add_(5) # 모든 요소에 5를 더하는 연산\n",
        "print(tensor)"
      ],
      "metadata": {
        "colab": {
          "base_uri": "https://localhost:8080/"
        },
        "id": "cDJN-7Vr5C1k",
        "outputId": "1e8ad2cd-55f2-42a9-9c47-9dfd45511326"
      },
      "execution_count": 31,
      "outputs": [
        {
          "output_type": "stream",
          "name": "stdout",
          "text": [
            "tensor([[1., 0., 1., 1.],\n",
            "        [1., 0., 1., 1.],\n",
            "        [1., 0., 1., 1.],\n",
            "        [1., 0., 1., 1.]]) \n",
            "\n",
            "tensor([[6., 5., 6., 6.],\n",
            "        [6., 5., 6., 6.],\n",
            "        [6., 5., 6., 6.],\n",
            "        [6., 5., 6., 6.]])\n"
          ]
        }
      ]
    },
    {
      "cell_type": "markdown",
      "source": [
        "바꿔치기 연산은 메모리를 일부 절약하지만, 기록(history)이 즉시 삭제되어 도함수(derivative) 계산에 문제가 발생할 수 있습니다. 따라서, 사용을 권장하지 않습니다."
      ],
      "metadata": {
        "id": "xQdm_coz5cJ1"
      }
    },
    {
      "cell_type": "markdown",
      "source": [
        "**NumPy 변환(Bridge)**"
      ],
      "metadata": {
        "id": "4RRBYJhl5f1v"
      }
    },
    {
      "cell_type": "markdown",
      "source": [
        "텐서를 NumPy 배열로 변환하기"
      ],
      "metadata": {
        "id": "bOisKH_c5gjn"
      }
    },
    {
      "cell_type": "code",
      "source": [
        "t = torch.ones(5) #크기가 5인 1차원 텐서를 생성. 생성된 텐서의 모든 값은 1로 초기화\n",
        "print(f\"t: {t}\")\n",
        "n = t.numpy() #텐서를 NumPy 배열로 변환\n",
        "print(f\"n: {n}\")"
      ],
      "metadata": {
        "colab": {
          "base_uri": "https://localhost:8080/"
        },
        "id": "2oJNz4xy5hia",
        "outputId": "df089b63-c896-4e65-a3b9-a1577a7c456a"
      },
      "execution_count": 32,
      "outputs": [
        {
          "output_type": "stream",
          "name": "stdout",
          "text": [
            "t: tensor([1., 1., 1., 1., 1.])\n",
            "n: [1. 1. 1. 1. 1.]\n"
          ]
        }
      ]
    },
    {
      "cell_type": "markdown",
      "source": [
        "텐서의 변경 사항이 NumPy 배열에 반영됩니다."
      ],
      "metadata": {
        "id": "QRsTzTnF53eK"
      }
    },
    {
      "cell_type": "code",
      "source": [
        "t.add_(1)\n",
        "print(f\"t: {t}\")\n",
        "print(f\"n: {n}\")"
      ],
      "metadata": {
        "colab": {
          "base_uri": "https://localhost:8080/"
        },
        "id": "kdrbJDqE53z6",
        "outputId": "65ad9299-07a4-444b-c637-e2e44a9a55cf"
      },
      "execution_count": 33,
      "outputs": [
        {
          "output_type": "stream",
          "name": "stdout",
          "text": [
            "t: tensor([2., 2., 2., 2., 2.])\n",
            "n: [2. 2. 2. 2. 2.]\n"
          ]
        }
      ]
    },
    {
      "cell_type": "markdown",
      "source": [
        "NumPy 배열을 텐서로 변환하기"
      ],
      "metadata": {
        "id": "in87DYax569n"
      }
    },
    {
      "cell_type": "code",
      "source": [
        "n = np.ones(5)\n",
        "t = torch.from_numpy(n)"
      ],
      "metadata": {
        "id": "3QbSO6vY57W8"
      },
      "execution_count": 34,
      "outputs": []
    },
    {
      "cell_type": "markdown",
      "source": [
        "NumPy 배열의 변경 사항이 텐서에 반영됩니다."
      ],
      "metadata": {
        "id": "hnRpJfGg5_im"
      }
    },
    {
      "cell_type": "code",
      "source": [
        "np.add(n, 1, out=n)\n",
        "print(f\"t: {t}\")\n",
        "print(f\"n: {n}\")"
      ],
      "metadata": {
        "colab": {
          "base_uri": "https://localhost:8080/"
        },
        "id": "4jURyvqv594R",
        "outputId": "668bef2a-ce52-4523-c550-f188bc9322dd"
      },
      "execution_count": 35,
      "outputs": [
        {
          "output_type": "stream",
          "name": "stdout",
          "text": [
            "t: tensor([2., 2., 2., 2., 2.], dtype=torch.float64)\n",
            "n: [2. 2. 2. 2. 2.]\n"
          ]
        }
      ]
    }
  ]
}